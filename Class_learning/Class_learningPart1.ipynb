{
  "nbformat": 4,
  "nbformat_minor": 0,
  "metadata": {
    "colab": {
      "provenance": []
    },
    "kernelspec": {
      "name": "python3",
      "display_name": "Python 3"
    },
    "language_info": {
      "name": "python"
    }
  },
  "cells": [
    {
      "cell_type": "markdown",
      "source": [
        "**Introductory of python**\n"
      ],
      "metadata": {
        "id": "j-eqLBrmUo0A"
      }
    },
    {
      "cell_type": "code",
      "source": [
        "print(\"Hello world\")"
      ],
      "metadata": {
        "colab": {
          "base_uri": "https://localhost:8080/"
        },
        "id": "baPeA6VSVMOp",
        "outputId": "520f5ecc-6fe0-413e-ed3a-f02b42306161"
      },
      "execution_count": null,
      "outputs": [
        {
          "output_type": "stream",
          "name": "stdout",
          "text": [
            "Hello world\n"
          ]
        }
      ]
    },
    {
      "cell_type": "code",
      "source": [
        "x = 4\n",
        "y = 2\n",
        "z = 1\n",
        "print(x+y+z)"
      ],
      "metadata": {
        "colab": {
          "base_uri": "https://localhost:8080/"
        },
        "id": "TJv4nWITVprw",
        "outputId": "90ed0491-76db-4b72-e0be-dd25e16a1bc6"
      },
      "execution_count": null,
      "outputs": [
        {
          "output_type": "stream",
          "name": "stdout",
          "text": [
            "7\n"
          ]
        }
      ]
    },
    {
      "cell_type": "code",
      "source": [
        "x = int(input(\"1st no.\"))\n",
        "y = int(input(\"2nd no.\"))\n",
        "z = x+y\n",
        "print(z)\n",
        "k = int(float(input(\"special no.\")))\n",
        "print(k)"
      ],
      "metadata": {
        "colab": {
          "base_uri": "https://localhost:8080/"
        },
        "id": "WuZ5VI9CWTAo",
        "outputId": "753624ef-a71c-4c96-f4a3-8cfd27dbd290"
      },
      "execution_count": null,
      "outputs": [
        {
          "output_type": "stream",
          "name": "stdout",
          "text": [
            "1st no.4\n",
            "2nd no.2\n",
            "6\n",
            "special no.2.5\n",
            "2\n"
          ]
        }
      ]
    },
    {
      "cell_type": "code",
      "source": [
        "print(f'the sum of {x} and {y} is {z}')"
      ],
      "metadata": {
        "colab": {
          "base_uri": "https://localhost:8080/"
        },
        "id": "0zVcMDwkY6Tw",
        "outputId": "66b47205-08c0-49fb-f6f0-808ebf1f2808"
      },
      "execution_count": null,
      "outputs": [
        {
          "output_type": "stream",
          "name": "stdout",
          "text": [
            "the sum of 4 and 2 is 6\n"
          ]
        }
      ]
    },
    {
      "cell_type": "code",
      "source": [
        "x = 10\n",
        "y = 3\n",
        "result = x/y\n",
        "print(result) // by defaul float point considered, // <- double division to make int\n"
      ],
      "metadata": {
        "colab": {
          "base_uri": "https://localhost:8080/"
        },
        "id": "_O304bO5Ziu5",
        "outputId": "89ef13ca-975d-4028-a52d-0cf1ae80214a"
      },
      "execution_count": null,
      "outputs": [
        {
          "output_type": "stream",
          "name": "stdout",
          "text": [
            "3.3333333333333335\n"
          ]
        }
      ]
    },
    {
      "cell_type": "code",
      "source": [
        "x = 10\n",
        "y = 3\n",
        "result = x//y\n",
        "print(result)"
      ],
      "metadata": {
        "colab": {
          "base_uri": "https://localhost:8080/"
        },
        "id": "3-wdPtQ_X8qA",
        "outputId": "2f1460f6-f6cb-4880-86d2-67b5d769bba6"
      },
      "execution_count": null,
      "outputs": [
        {
          "output_type": "stream",
          "name": "stdout",
          "text": [
            "3\n"
          ]
        }
      ]
    },
    {
      "cell_type": "code",
      "source": [],
      "metadata": {
        "id": "Dth8t2EZa2pp"
      },
      "execution_count": null,
      "outputs": []
    },
    {
      "cell_type": "markdown",
      "source": [
        "Selection Statement"
      ],
      "metadata": {
        "id": "KaOmbi6Ha4s4"
      }
    },
    {
      "cell_type": "code",
      "source": [
        "x = 5\n",
        "if x%2 == 0:\n",
        "  print(\"true\") \n",
        "  print(\"based\")\n",
        "else:\n",
        "  print(\"false\")"
      ],
      "metadata": {
        "colab": {
          "base_uri": "https://localhost:8080/"
        },
        "id": "Ai8sGazqa_aA",
        "outputId": "f481d067-1511-4900-e42a-76ac6cc95caa"
      },
      "execution_count": null,
      "outputs": [
        {
          "output_type": "stream",
          "name": "stdout",
          "text": [
            "false\n"
          ]
        }
      ]
    },
    {
      "cell_type": "code",
      "source": [
        "x = 9\n",
        "if x%3 !=0 and x%5 != 0:\n",
        "  print(f\"{x} is not divisible by 3 and 5\")\n",
        "elif x%3 ==0 and x%5 != 0:\n",
        "  print(f\"{x} is divisible by 3\")\n",
        "elif x%3 !=0 and x%5== 0:\n",
        "  print(f\"{x} is divisible by 5\")\n",
        "else:\n",
        "  print(f\"{x} is not divisible by both 3 and 5\")"
      ],
      "metadata": {
        "colab": {
          "base_uri": "https://localhost:8080/"
        },
        "id": "346J6E3JcQXi",
        "outputId": "14090c6d-aa72-4e79-c902-8e0ed41537a5"
      },
      "execution_count": null,
      "outputs": [
        {
          "output_type": "stream",
          "name": "stdout",
          "text": [
            "9 is divisible by 3\n"
          ]
        }
      ]
    },
    {
      "cell_type": "code",
      "source": [
        "x = 9\n",
        "if (x%3 ==0 and x%5 != 0) or (x%3 !=0 and x%5== 0):\n",
        "  print(\"Yes\")\n",
        "else:\n",
        "  print(\"No\")"
      ],
      "metadata": {
        "colab": {
          "base_uri": "https://localhost:8080/"
        },
        "id": "Y3AeXg9Qb2Rw",
        "outputId": "00a5d46a-102a-4a8b-da7c-7b63225408de"
      },
      "execution_count": null,
      "outputs": [
        {
          "output_type": "stream",
          "name": "stdout",
          "text": [
            "Yes\n"
          ]
        }
      ]
    },
    {
      "cell_type": "markdown",
      "source": [
        "**Loop **"
      ],
      "metadata": {
        "id": "EXip6SaOeJkp"
      }
    },
    {
      "cell_type": "code",
      "source": [
        "s = \"\"\n",
        "for i in range(10):\n",
        " s = s + str(i) + \" \" \n",
        " print(s)"
      ],
      "metadata": {
        "colab": {
          "base_uri": "https://localhost:8080/"
        },
        "id": "Czu6oN2reNkR",
        "outputId": "def54bf9-fdf0-4983-88f6-aa455e6b0ab8"
      },
      "execution_count": null,
      "outputs": [
        {
          "output_type": "stream",
          "name": "stdout",
          "text": [
            "0 \n",
            "0 1 \n",
            "0 1 2 \n",
            "0 1 2 3 \n",
            "0 1 2 3 4 \n",
            "0 1 2 3 4 5 \n",
            "0 1 2 3 4 5 6 \n",
            "0 1 2 3 4 5 6 7 \n",
            "0 1 2 3 4 5 6 7 8 \n",
            "0 1 2 3 4 5 6 7 8 9 \n"
          ]
        }
      ]
    },
    {
      "cell_type": "code",
      "source": [
        "s = \"\"\n",
        "for i in range(10):\n",
        " s = s + str(i) + \" \" \n",
        "print(s)"
      ],
      "metadata": {
        "colab": {
          "base_uri": "https://localhost:8080/"
        },
        "id": "22atwvaaf2jh",
        "outputId": "e6455370-3ed0-4b95-9354-6c61a7fa289b"
      },
      "execution_count": null,
      "outputs": [
        {
          "output_type": "stream",
          "name": "stdout",
          "text": [
            "0 1 2 3 4 5 6 7 8 9 \n"
          ]
        }
      ]
    },
    {
      "cell_type": "code",
      "source": [
        "s = \"\"\n",
        "for i in range(5, 10):\n",
        " s = s + str(i) + \" \" \n",
        "print(s)"
      ],
      "metadata": {
        "colab": {
          "base_uri": "https://localhost:8080/"
        },
        "id": "2uuHSSBpf5lR",
        "outputId": "a27220a0-739e-4802-c768-f99466e05198"
      },
      "execution_count": null,
      "outputs": [
        {
          "output_type": "stream",
          "name": "stdout",
          "text": [
            "5 7 9 \n"
          ]
        }
      ]
    },
    {
      "cell_type": "code",
      "source": [
        "s = \"\"\n",
        "for i in range(5, 10, 2): //2 for jumps by 2 steps\n",
        " s = s + str(i) + \" \" \n",
        "print(s)"
      ],
      "metadata": {
        "colab": {
          "base_uri": "https://localhost:8080/"
        },
        "id": "ejJe_KkHgD4J",
        "outputId": "f71a4522-3733-47ea-8943-a8bc696d9395"
      },
      "execution_count": null,
      "outputs": [
        {
          "output_type": "stream",
          "name": "stdout",
          "text": [
            "5 7 9 \n"
          ]
        }
      ]
    },
    {
      "cell_type": "code",
      "source": [
        "s = \"\"\n",
        "for i in range(20, 0, -3): \n",
        " s = s + str(i) + \" \" \n",
        "print(s)"
      ],
      "metadata": {
        "colab": {
          "base_uri": "https://localhost:8080/"
        },
        "id": "9FSrl8sLgNPC",
        "outputId": "f8782933-0d74-4f43-cb36-ad8135b0f834"
      },
      "execution_count": null,
      "outputs": [
        {
          "output_type": "stream",
          "name": "stdout",
          "text": [
            "20 17 14 11 8 5 2 \n"
          ]
        }
      ]
    },
    {
      "cell_type": "code",
      "source": [
        "x = 20\n",
        "while x>=2:\n",
        "  print(x)\n",
        "  x-=2"
      ],
      "metadata": {
        "colab": {
          "base_uri": "https://localhost:8080/"
        },
        "id": "QiYCYxfUhFia",
        "outputId": "b5038e35-5430-4266-b5b4-e0f379ee22e1"
      },
      "execution_count": null,
      "outputs": [
        {
          "output_type": "stream",
          "name": "stdout",
          "text": [
            "20\n",
            "18\n",
            "16\n",
            "14\n",
            "12\n",
            "10\n",
            "8\n",
            "6\n",
            "4\n",
            "2\n"
          ]
        }
      ]
    },
    {
      "cell_type": "markdown",
      "source": [
        "**List**"
      ],
      "metadata": {
        "id": "0wowKjmyhb9j"
      }
    },
    {
      "cell_type": "code",
      "source": [
        "numbers = [2,3,5,6,8,9]\n",
        "print(numbers)"
      ],
      "metadata": {
        "colab": {
          "base_uri": "https://localhost:8080/"
        },
        "id": "Fdeu12xcheZq",
        "outputId": "abe3d288-4da4-4742-bc4f-1104dac95589"
      },
      "execution_count": null,
      "outputs": [
        {
          "output_type": "stream",
          "name": "stdout",
          "text": [
            "[2, 3, 5, 6, 8, 9]\n"
          ]
        }
      ]
    },
    {
      "cell_type": "code",
      "source": [
        "numbers = [2,3,5,6,8,9]\n",
        "print(numbers)\n",
        "numbers.append(13)\n",
        "print(numbers)"
      ],
      "metadata": {
        "colab": {
          "base_uri": "https://localhost:8080/"
        },
        "id": "SfNq7o0mhtJJ",
        "outputId": "ad858353-3bf2-433c-cdf8-4ee5d7311696"
      },
      "execution_count": null,
      "outputs": [
        {
          "output_type": "stream",
          "name": "stdout",
          "text": [
            "[2, 3, 5, 6, 8, 9]\n",
            "[2, 3, 5, 6, 8, 9, 13]\n"
          ]
        }
      ]
    },
    {
      "cell_type": "code",
      "source": [
        "numbers = []\n",
        "for i in range(5):\n",
        "  x = int(input())\n",
        "  numbers.append(i)\n",
        "  print(i)\n"
      ],
      "metadata": {
        "colab": {
          "base_uri": "https://localhost:8080/"
        },
        "id": "MJ_4_pMviE4K",
        "outputId": "f9e74547-ded7-4b87-9920-099583afa3ed"
      },
      "execution_count": null,
      "outputs": [
        {
          "output_type": "stream",
          "name": "stdout",
          "text": [
            "1\n",
            "2\n",
            "3\n",
            "4\n",
            "5\n",
            "4\n"
          ]
        }
      ]
    },
    {
      "cell_type": "code",
      "source": [
        "numbers.insert(2,39)\n",
        "print(numbers)"
      ],
      "metadata": {
        "colab": {
          "base_uri": "https://localhost:8080/"
        },
        "id": "xStFVIpji6o6",
        "outputId": "fdd489a0-403a-4f99-b7c7-746256175de7"
      },
      "execution_count": null,
      "outputs": [
        {
          "output_type": "stream",
          "name": "stdout",
          "text": [
            "[0, 1, 39, 2, 3, 4]\n"
          ]
        }
      ]
    },
    {
      "cell_type": "code",
      "source": [
        "numbers.insert(len(numbers),29)\n",
        "print(numbers)"
      ],
      "metadata": {
        "colab": {
          "base_uri": "https://localhost:8080/"
        },
        "id": "GrHqcfMujK3K",
        "outputId": "2e854700-61e6-4220-e0d7-b2432f8f377b"
      },
      "execution_count": null,
      "outputs": [
        {
          "output_type": "stream",
          "name": "stdout",
          "text": [
            "[0, 1, 39, 2, 3, 4, 29]\n"
          ]
        }
      ]
    },
    {
      "cell_type": "code",
      "source": [
        "numbers.remove(2)\n",
        "print(numbers)"
      ],
      "metadata": {
        "colab": {
          "base_uri": "https://localhost:8080/"
        },
        "id": "br9t7WFmjjeh",
        "outputId": "a6914a64-c0ce-4c4a-e735-ec38ffabaf72"
      },
      "execution_count": null,
      "outputs": [
        {
          "output_type": "stream",
          "name": "stdout",
          "text": [
            "[0, 1, 39, 3, 4, 29]\n"
          ]
        }
      ]
    },
    {
      "cell_type": "code",
      "source": [
        "def factorial(n):\n",
        "  x = 1\n",
        "  for i in range(1,n+1):\n",
        "    x =x*i\n",
        "  return x //will not run here only build\n"
      ],
      "metadata": {
        "id": "X_LhV08RkOeK"
      },
      "execution_count": null,
      "outputs": []
    },
    {
      "cell_type": "code",
      "source": [
        "print(factorial(5)) //run here"
      ],
      "metadata": {
        "colab": {
          "base_uri": "https://localhost:8080/"
        },
        "id": "TKTkLyLMktvZ",
        "outputId": "b89cb61a-9312-40b7-aed8-02c7ca4e4bb0"
      },
      "execution_count": null,
      "outputs": [
        {
          "output_type": "stream",
          "name": "stdout",
          "text": [
            "120\n"
          ]
        }
      ]
    }
  ]
}